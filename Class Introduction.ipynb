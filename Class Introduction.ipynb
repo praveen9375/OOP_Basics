{
 "cells": [
  {
   "cell_type": "code",
   "execution_count": 1,
   "id": "6ac8d6d3",
   "metadata": {},
   "outputs": [],
   "source": [
    "class Dog:\n",
    "    species = \"Canis familiaris\"\n",
    "\n",
    "    def __init__(self, name, age):\n",
    "        self.name = name\n",
    "        self.age = age\n",
    "\n",
    "    # Instance method\n",
    "    def description(self):\n",
    "        return f\"{self.name} is {self.age} years old\"\n",
    "\n",
    "    # Another instance method\n",
    "    def speak(self, sound):\n",
    "        return f\"{self.name} says {sound}\""
   ]
  },
  {
   "cell_type": "code",
   "execution_count": 2,
   "id": "35986029",
   "metadata": {},
   "outputs": [],
   "source": [
    "harry = Dog(\"harry\",9)"
   ]
  },
  {
   "cell_type": "code",
   "execution_count": 3,
   "id": "14ed5daa",
   "metadata": {},
   "outputs": [
    {
     "data": {
      "text/plain": [
       "'harry is 9 years old'"
      ]
     },
     "execution_count": 3,
     "metadata": {},
     "output_type": "execute_result"
    }
   ],
   "source": [
    "harry.description()"
   ]
  },
  {
   "cell_type": "code",
   "execution_count": 4,
   "id": "df498ff7",
   "metadata": {},
   "outputs": [
    {
     "data": {
      "text/plain": [
       "'harry says Vau Vau'"
      ]
     },
     "execution_count": 4,
     "metadata": {},
     "output_type": "execute_result"
    }
   ],
   "source": [
    "harry.speak(\"Vau Vau\")"
   ]
  },
  {
   "cell_type": "code",
   "execution_count": 5,
   "id": "160a2472",
   "metadata": {},
   "outputs": [],
   "source": [
    "class Car:\n",
    "    def __init__(self, color, mileage):\n",
    "        self.color = color\n",
    "        self.mileage = mileage"
   ]
  },
  {
   "cell_type": "code",
   "execution_count": 6,
   "id": "a6e7e552",
   "metadata": {},
   "outputs": [],
   "source": [
    "blue_car = Car(color=\"blue\", mileage=20_000)\n",
    "red_car = Car(color=\"red\", mileage=30_000)"
   ]
  },
  {
   "cell_type": "code",
   "execution_count": 7,
   "id": "5eb07506",
   "metadata": {},
   "outputs": [
    {
     "name": "stdout",
     "output_type": "stream",
     "text": [
      "The blue car has 20,000 miles\n",
      "The red car has 30,000 miles\n"
     ]
    }
   ],
   "source": [
    "for car in (blue_car, red_car):\n",
    "    print(f\"The {car.color} car has {car.mileage:,} miles\")"
   ]
  },
  {
   "cell_type": "code",
   "execution_count": null,
   "id": "d9c2e6f6",
   "metadata": {},
   "outputs": [],
   "source": []
  }
 ],
 "metadata": {
  "kernelspec": {
   "display_name": "Python 3 (ipykernel)",
   "language": "python",
   "name": "python3"
  },
  "language_info": {
   "codemirror_mode": {
    "name": "ipython",
    "version": 3
   },
   "file_extension": ".py",
   "mimetype": "text/x-python",
   "name": "python",
   "nbconvert_exporter": "python",
   "pygments_lexer": "ipython3",
   "version": "3.9.13"
  }
 },
 "nbformat": 4,
 "nbformat_minor": 5
}
