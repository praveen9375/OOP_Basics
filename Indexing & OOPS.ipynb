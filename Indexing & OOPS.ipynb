{
 "cells": [
  {
   "cell_type": "code",
   "execution_count": 1,
   "id": "ea848f64",
   "metadata": {},
   "outputs": [
    {
     "name": "stdout",
     "output_type": "stream",
     "text": [
      "6\n"
     ]
    }
   ],
   "source": [
    "lst = [[1, 2, 3], [4, 5, 6], [7, 8, 9]]\n",
    "print(lst[1][2])"
   ]
  },
  {
   "cell_type": "code",
   "execution_count": 2,
   "id": "95038e83",
   "metadata": {},
   "outputs": [
    {
     "data": {
      "text/plain": [
       "18"
      ]
     },
     "execution_count": 2,
     "metadata": {},
     "output_type": "execute_result"
    }
   ],
   "source": [
    "d = {'Alice': {'age': 24, 'gender': 'female'}, 'Bob': {'age': 30, 'gender': 'male'}, 'Charlie': {'age': 18, 'gender': 'male'}}\n",
    "d['Charlie']['age']"
   ]
  },
  {
   "cell_type": "code",
   "execution_count": 3,
   "id": "f7495e1a",
   "metadata": {},
   "outputs": [
    {
     "name": "stdout",
     "output_type": "stream",
     "text": [
      "[3, 6, 9]\n"
     ]
    }
   ],
   "source": [
    "lst = [[1, 2, 3], [4, 5, 6], [7, 8, 9]]\n",
    "print([row[2] for row in lst])"
   ]
  },
  {
   "cell_type": "code",
   "execution_count": 4,
   "id": "4617c198",
   "metadata": {},
   "outputs": [
    {
     "data": {
      "text/plain": [
       "[24, 30, 18]"
      ]
     },
     "execution_count": 4,
     "metadata": {},
     "output_type": "execute_result"
    }
   ],
   "source": [
    "d = {'Alice': {'age': 24, 'gender': 'female'}, 'Bob': {'age': 30, 'gender': 'male'}, 'Charlie': {'age': 18, 'gender': 'male'}}\n",
    "[person['age'] for person in d.values()]"
   ]
  },
  {
   "cell_type": "code",
   "execution_count": 5,
   "id": "acf3db0a",
   "metadata": {},
   "outputs": [
    {
     "name": "stdout",
     "output_type": "stream",
     "text": [
      "[[1, 4, 7], [2, 5, 8], [3, 6, 9]]\n"
     ]
    }
   ],
   "source": [
    "lst = [[1, 2, 3], [4, 5, 6], [7, 8, 9]]\n",
    "print([[row[i] for row in lst] for i in range(3)])"
   ]
  },
  {
   "cell_type": "code",
   "execution_count": 6,
   "id": "1e37a979",
   "metadata": {},
   "outputs": [
    {
     "name": "stdout",
     "output_type": "stream",
     "text": [
      "[('Charlie', {'age': 18, 'gender': 'male'}), ('Alice', {'age': 24, 'gender': 'female'}), ('Bob', {'age': 30, 'gender': 'male'})]\n"
     ]
    }
   ],
   "source": [
    "d = {'Alice': {'age': 24, 'gender': 'female'}, 'Bob': {'age': 30, 'gender': 'male'}, 'Charlie': {'age': 18, 'gender': 'male'}}\n",
    "print(sorted(d.items(), key=lambda x: x[1]['age']))"
   ]
  },
  {
   "cell_type": "code",
   "execution_count": 7,
   "id": "01772dce",
   "metadata": {},
   "outputs": [
    {
     "name": "stdout",
     "output_type": "stream",
     "text": [
      "6\n"
     ]
    }
   ],
   "source": [
    "lst = [[[1, 2], [3, 4]], [[5, 6], [7, 8]]]\n",
    "print(lst[1][0][1])"
   ]
  },
  {
   "cell_type": "code",
   "execution_count": 8,
   "id": "8c43a7c7",
   "metadata": {},
   "outputs": [
    {
     "name": "stdout",
     "output_type": "stream",
     "text": [
      "reading\n"
     ]
    }
   ],
   "source": [
    "d = {'Alice': {'age': 24, 'gender': 'female'}, 'Bob': {'age': 30, 'gender': 'male', 'hobbies': ['reading', 'sports']}, 'Charlie': {'age': 18, 'gender': 'male'}}\n",
    "print(d['Bob']['hobbies'][0])"
   ]
  },
  {
   "cell_type": "code",
   "execution_count": 9,
   "id": "32d6ea39",
   "metadata": {},
   "outputs": [
    {
     "name": "stdout",
     "output_type": "stream",
     "text": [
      "[1, 2, 3, 4, 5, 6, 7, 8]\n"
     ]
    }
   ],
   "source": [
    "lst = [[[1, 2], [3, 4]], [[5, 6], [7, 8]]]\n",
    "print([item for sublist in lst for subsublist in sublist for item in subsublist])"
   ]
  },
  {
   "cell_type": "code",
   "execution_count": 10,
   "id": "a9e54c0d",
   "metadata": {},
   "outputs": [
    {
     "name": "stdout",
     "output_type": "stream",
     "text": [
      "[('Alice', {'age': 24, 'gender': 'female'}), ('Charlie', {'age': 18, 'gender': 'male'}), ('Bob', {'gender': 'male', 'hobbies': ['reading', 'sports']})]\n"
     ]
    }
   ],
   "source": [
    "d = {'Alice': {'age': 24, 'gender': 'female'}, 'Bob': {'gender': 'male', 'hobbies': ['reading', 'sports']}, 'Charlie': {'age': 18, 'gender': 'male'}}\n",
    "print(sorted(d.items(), key=lambda x: x[1].get('hobbies', [])))"
   ]
  },
  {
   "cell_type": "code",
   "execution_count": 66,
   "id": "7750a74f",
   "metadata": {},
   "outputs": [
    {
     "ename": "TypeError",
     "evalue": "'int' object is not subscriptable",
     "output_type": "error",
     "traceback": [
      "\u001b[1;31m---------------------------------------------------------------------------\u001b[0m",
      "\u001b[1;31mTypeError\u001b[0m                                 Traceback (most recent call last)",
      "\u001b[1;32m~\\AppData\\Local\\Temp\\ipykernel_14012\\4048967498.py\u001b[0m in \u001b[0;36m<module>\u001b[1;34m\u001b[0m\n\u001b[0;32m      1\u001b[0m \u001b[0ml\u001b[0m \u001b[1;33m=\u001b[0m \u001b[1;33m[\u001b[0m\u001b[1;33m[\u001b[0m\u001b[1;33m[\u001b[0m\u001b[1;36m1\u001b[0m\u001b[1;33m,\u001b[0m \u001b[1;36m2\u001b[0m\u001b[1;33m]\u001b[0m\u001b[1;33m,\u001b[0m \u001b[1;33m[\u001b[0m\u001b[1;36m3\u001b[0m\u001b[1;33m,\u001b[0m \u001b[1;36m4\u001b[0m\u001b[1;33m]\u001b[0m\u001b[1;33m]\u001b[0m\u001b[1;33m,\u001b[0m \u001b[1;33m[\u001b[0m\u001b[1;33m[\u001b[0m\u001b[1;36m5\u001b[0m\u001b[1;33m,\u001b[0m \u001b[1;36m6\u001b[0m\u001b[1;33m]\u001b[0m\u001b[1;33m,\u001b[0m \u001b[1;33m[\u001b[0m\u001b[1;36m7\u001b[0m\u001b[1;33m,\u001b[0m \u001b[1;36m8\u001b[0m\u001b[1;33m]\u001b[0m\u001b[1;33m]\u001b[0m\u001b[1;33m]\u001b[0m\u001b[1;33m\u001b[0m\u001b[1;33m\u001b[0m\u001b[0m\n\u001b[1;32m----> 2\u001b[1;33m \u001b[0mprint\u001b[0m\u001b[1;33m(\u001b[0m\u001b[0ml\u001b[0m\u001b[1;33m[\u001b[0m\u001b[1;36m1\u001b[0m\u001b[1;33m]\u001b[0m\u001b[1;33m[\u001b[0m\u001b[1;36m1\u001b[0m\u001b[1;33m]\u001b[0m\u001b[1;33m[\u001b[0m\u001b[1;36m0\u001b[0m\u001b[1;33m]\u001b[0m\u001b[1;33m[\u001b[0m\u001b[1;36m1\u001b[0m\u001b[1;33m]\u001b[0m\u001b[1;33m)\u001b[0m\u001b[1;33m\u001b[0m\u001b[1;33m\u001b[0m\u001b[0m\n\u001b[0m",
      "\u001b[1;31mTypeError\u001b[0m: 'int' object is not subscriptable"
     ]
    }
   ],
   "source": [
    "l = [[[1, 2], [3, 4]], [[5, 6], [7, 8]]]\n",
    "print(l[1][1][0][1])"
   ]
  },
  {
   "cell_type": "code",
   "execution_count": 23,
   "id": "9d1049ba",
   "metadata": {},
   "outputs": [
    {
     "name": "stdout",
     "output_type": "stream",
     "text": [
      "[5, 6]\n"
     ]
    }
   ],
   "source": [
    "import json\n",
    "j = '{\"a\": {\"b\": [{\"c\": [1, 2, 3]}, {\"c\": [4, 5, 6]}]}, \"d\": {\"e\": {\"f\": [7, 8, 9]}}}'\n",
    "print(json.loads(j)['a']['b'][1]['c'][-2:])"
   ]
  },
  {
   "cell_type": "code",
   "execution_count": 17,
   "id": "0bbda576",
   "metadata": {},
   "outputs": [
    {
     "name": "stdout",
     "output_type": "stream",
     "text": [
      "10\n"
     ]
    }
   ],
   "source": [
    "l = [[1, 2], [3, 4, 5], [6, [7, 8, [9, 10, 11], 12]]]\n",
    "print(l[2][1][2][1])"
   ]
  },
  {
   "cell_type": "code",
   "execution_count": 25,
   "id": "5e214232",
   "metadata": {},
   "outputs": [
    {
     "name": "stdout",
     "output_type": "stream",
     "text": [
      "[6, 7]\n"
     ]
    }
   ],
   "source": [
    "import json\n",
    "j = '{\"a\": {\"b\": [1, 2, {\"c\": {\"d\": 3}}]}, \"e\": {\"f\": [4, [5, {\"g\": [6, 7, 8]}], 9]}}'\n",
    "print(json.loads(j)['e']['f'][1][1]['g'][:2])"
   ]
  },
  {
   "cell_type": "code",
   "execution_count": 19,
   "id": "271fcb64",
   "metadata": {},
   "outputs": [
    {
     "name": "stdout",
     "output_type": "stream",
     "text": [
      "[12, 11, 10]\n"
     ]
    }
   ],
   "source": [
    "l = [[[1, 2, 3], [4, 5, 6]], [[7, 8, 9], [10, 11, 12]]]\n",
    "print(l[-1][-1][::-1])"
   ]
  },
  {
   "cell_type": "code",
   "execution_count": 47,
   "id": "1694d0c8",
   "metadata": {},
   "outputs": [
    {
     "name": "stdout",
     "output_type": "stream",
     "text": [
      "1.04\n",
      "1.25\n",
      "{'f': 'Ram', 'l': 'Kumar', 'p': 50000, 'email': 'Ram.Kumar@comp.com', 'raise_amount': 1.25}\n",
      "1\n"
     ]
    }
   ],
   "source": [
    "class emp:\n",
    "    raise_amount = 1.04\n",
    "    num_emp = 0\n",
    "    def __init__(self,f,l,p):\n",
    "        self.f = f\n",
    "        self.l = l\n",
    "        self.p = p\n",
    "        self.email = f + '.' + l + '@comp.com'\n",
    "        emp.num_emp += 1\n",
    "    def fullname(self):\n",
    "        return '{} {}'.format(emp1.f,emp1.l)\n",
    "    def apply_raise(self):\n",
    "        self.p = int(self.p*self.raise_amount)\n",
    "emp1 = emp('Ram','Kumar',50000)\n",
    "\"\"\"\"print(emp1.email)\n",
    "    print(emp1.fullname())\n",
    "    emp.fullname(emp1)\n",
    "    emp1.apply_raise()\n",
    "    print(emp1.p)\"\"\"\n",
    "emp1.raise_amount = 1.25\n",
    "print(emp.raise_amount)\n",
    "print(emp1.raise_amount)\n",
    "print(emp1.__dict__)\n",
    "print(emp.num_emp)"
   ]
  },
  {
   "cell_type": "code",
   "execution_count": 52,
   "id": "5bf49814",
   "metadata": {},
   "outputs": [
    {
     "name": "stdout",
     "output_type": "stream",
     "text": [
      "1.05\n",
      "1.05\n",
      "{'f': 'Ram', 'l': 'Kumar', 'p': 50000, 'email': 'Ram.Kumar@comp.com'}\n"
     ]
    }
   ],
   "source": [
    "# Class Methods\n",
    "\n",
    "class emp:\n",
    "    raise_amount = 1.04\n",
    "    num_emp = 0\n",
    "    def __init__(self,f,l,p):\n",
    "        self.f = f\n",
    "        self.l = l\n",
    "        self.p = p\n",
    "        self.email = f + '.' + l + '@comp.com'\n",
    "        emp.num_emp += 1\n",
    "    def fullname(self):\n",
    "        return '{} {}'.format(emp1.f,emp1.l)\n",
    "    def apply_raise(self):\n",
    "        self.p = int(self.p*self.raise_amount)\n",
    "        \n",
    "    @classmethod\n",
    "    def set_raise_amount(cls,amount):\n",
    "        cls.raise_amount = amount\n",
    "emp1 = emp('Ram','Kumar',50000)\n",
    "\"\"\"\"print(emp1.email)\n",
    "    print(emp1.fullname())\n",
    "    emp.fullname(emp1)\n",
    "    emp1.apply_raise()\n",
    "    print(emp1.p)\"\"\"\n",
    "emp.set_raise_amount(1.05)\n",
    "print(emp.raise_amount)\n",
    "print(emp1.raise_amount)\n",
    "print(emp1.__dict__)\n",
    "#print(emp.num_emp)"
   ]
  },
  {
   "cell_type": "code",
   "execution_count": 56,
   "id": "cffefa38",
   "metadata": {},
   "outputs": [
    {
     "name": "stdout",
     "output_type": "stream",
     "text": [
      "John.Doe@comp.com\n",
      "True\n"
     ]
    }
   ],
   "source": [
    "# Reading a string and then converting it to employee\n",
    "# Class Methods\n",
    "import datetime\n",
    "class emp:\n",
    "    raise_amount = 1.04\n",
    "    num_emp = 0\n",
    "    def __init__(self,f,l,p):\n",
    "        self.f = f\n",
    "        self.l = l\n",
    "        self.p = p\n",
    "        self.email = f + '.' + l + '@comp.com'\n",
    "        emp.num_emp += 1\n",
    "    def fullname(self):\n",
    "        return '{} {}'.format(emp1.f,emp1.l)\n",
    "    def apply_raise(self):\n",
    "        self.p = int(self.p*self.raise_amount)\n",
    "        \n",
    "    @classmethod\n",
    "    def set_raise_amount(cls,amount):\n",
    "        cls.raise_amount = amount\n",
    "        \n",
    "    @classmethod\n",
    "    def from_str(cls, emp_str):\n",
    "        f, l , p = emp_str1.split('-')\n",
    "        return cls(f,l,p)\n",
    "    @staticmethod\n",
    "    def is_workday(day):\n",
    "        if day.weekday() == 5 or day.weekday() == 6:\n",
    "            return False\n",
    "        return True\n",
    "\n",
    "emp_str1 = 'John-Doe-80000'\n",
    "new_emp = emp.from_str(emp_str1)\n",
    "print(new_emp.email)\n",
    "my_date = datetime.date(2016,7,11)\n",
    "print(emp.is_workday(my_date))"
   ]
  },
  {
   "cell_type": "code",
   "execution_count": 75,
   "id": "b1b319d8",
   "metadata": {},
   "outputs": [
    {
     "name": "stdout",
     "output_type": "stream",
     "text": [
      "arnold.kumar@comp.com\n",
      "75000\n",
      "arnold.kumar@comp.com\n",
      "Python\n"
     ]
    }
   ],
   "source": [
    "# Reading a string and then converting it to employee\n",
    "# Inheritance\n",
    "class emp:\n",
    "    raise_amount = 1.04\n",
    "    num_emp = 0\n",
    "    def __init__(self,f,l,p):\n",
    "        self.f = f\n",
    "        self.l = l\n",
    "        self.p = p\n",
    "        self.email = f + '.' + l + '@comp.com'\n",
    "        emp.num_emp += 1\n",
    "    def fullname(self):\n",
    "        return '{} {}'.format(emp1.f,emp1.l)\n",
    "    def apply_raise(self):\n",
    "        self.p = int(self.p*self.raise_amount)\n",
    "        \n",
    "class dev(emp):\n",
    "    raise_amount = 1.10\n",
    "    \n",
    "    def __init__(self,f,l,p,prog):\n",
    "        super().__init__(f,l,p)\n",
    "        self.prog = prog\n",
    "\n",
    "dev1 = dev(\"arnold\",\"kumar\",75000,'Python')\n",
    "dev2 = emp(\"arn\",\"old\",75000)\n",
    "print(dev1.email)\n",
    "print(dev1.p)\n",
    "dev1.apply_raise()\n",
    "print(dev1.email)\n",
    "print(dev1.prog)"
   ]
  },
  {
   "cell_type": "code",
   "execution_count": 95,
   "id": "c01056e7",
   "metadata": {},
   "outputs": [
    {
     "name": "stdout",
     "output_type": "stream",
     "text": [
      "arnold.kumar@comp.com\n",
      "75000\n",
      "arnold.kumar@comp.com\n",
      "Python\n",
      "True\n",
      "True\n"
     ]
    }
   ],
   "source": [
    "# Reading a string and then converting it to employee\n",
    "# Inheritance\n",
    "class employees:\n",
    "    raise_amount = 1.04\n",
    "    num_emp = 0\n",
    "    def __init__(self,f,l,p):\n",
    "        self.f = f\n",
    "        self.l = l\n",
    "        self.p = p\n",
    "        self.email = f + '.' + l + '@comp.com'\n",
    "        emp.num_emp += 1\n",
    "    def fullname(self):\n",
    "        return '{} {}'.format(emp1.f,emp1.l)\n",
    "    def apply_raise(self):\n",
    "        self.p = int(self.p*self.raise_amount)\n",
    "        \n",
    "class dev(employees):\n",
    "    raise_amount = 1.10\n",
    "    \n",
    "    def __init__(self,f,l,p,prog):\n",
    "        super().__init__(f,l,p)\n",
    "        self.prog = prog\n",
    "        \n",
    "class manager(employees):\n",
    "    \n",
    "    def __init__(self,f,l,p,employees=None):\n",
    "        super().__init__(f,l,p)\n",
    "        if employees is None:\n",
    "            self.employees = []\n",
    "        else:\n",
    "            self.employees = employees\n",
    "            \n",
    "    def add_emp(self,emp):\n",
    "        if emp not in self.employees:\n",
    "            self.employees.append(emp)\n",
    "            \n",
    "    def rem_emp(self,emp):\n",
    "        if emp in self.employees:\n",
    "            self.employees.remove(emp)\n",
    "            \n",
    "    def print_emp(self):\n",
    "        for emp in self.employees:\n",
    "            print('-->',emp.fullname())\n",
    "\n",
    "dev1 = dev(\"arnold\",\"kumar\",75000,'Python')\n",
    "dev2 = dev(\"arn\",\"old\",75000,'C++')\n",
    "print(dev1.email)\n",
    "print(dev1.p)\n",
    "dev1.apply_raise()\n",
    "print(dev1.email)\n",
    "print(dev1.prog)\n",
    "\n",
    "mg1 = manager('Sue',\"Smith\",90000,[dev1])\n",
    "\n",
    "#print(mg1.email)\n",
    "#mg1.add_emp(dev2)\n",
    "#mg1.print_emp()\n",
    "\n",
    "print(issubclass(manager,employees))\n",
    "print(isinstance(dev1,dev))"
   ]
  },
  {
   "cell_type": "code",
   "execution_count": 106,
   "id": "fadf1c53",
   "metadata": {},
   "outputs": [
    {
     "name": "stdout",
     "output_type": "stream",
     "text": [
      "Employee('Ram','Kumar','56000')\n",
      "<bound method emp.fullname of Employee('Ram','Kumar','56000')> - Ram.Kumar@comp.com\n",
      "112000\n",
      "9\n"
     ]
    }
   ],
   "source": [
    "# Reading a string and then converting it to employee\n",
    "# Inheritance\n",
    "class emp:\n",
    "    raise_amount = 1.04\n",
    "    num_emp = 0\n",
    "    def __init__(self,f,l,p):\n",
    "        self.f = f\n",
    "        self.l = l\n",
    "        self.p = p\n",
    "        self.email = f + '.' + l + '@comp.com'\n",
    "        emp.num_emp += 1\n",
    "    def fullname(self):\n",
    "        return '{} {}'.format(emp1.f,emp1.l)\n",
    "    def apply_raise(self):\n",
    "        self.p = int(self.p*self.raise_amount)\n",
    "        \n",
    "    def __repr__(self):\n",
    "        return \"Employee('{}','{}','{}')\".format(self.f,self.l,self.p )\n",
    "    \n",
    "    def __str__(self):\n",
    "        return '{} - {}'.format(self.fullname,self.email)\n",
    "    def __add__(self,other):\n",
    "        return self.p + other.p\n",
    "    def __len__(self):\n",
    "        return len(self.fullname())\n",
    "emp1 = emp(\"Ram\",\"Kumar\",56000)\n",
    "emp2 = emp(\"Shyam\",\"Kumar\",56000)\n",
    "#print(emp1)\n",
    "print(repr(emp1))\n",
    "print(str(emp1))\n",
    "print(emp1 + emp2)\n",
    "print(len(emp1))"
   ]
  },
  {
   "cell_type": "code",
   "execution_count": 119,
   "id": "884e4bcf",
   "metadata": {},
   "outputs": [
    {
     "name": "stdout",
     "output_type": "stream",
     "text": [
      "Jin\n",
      "Jin cena\n",
      "Jin.cena@email.com\n"
     ]
    }
   ],
   "source": [
    "# Reading a string and then converting it to employee\n",
    "# Inheritance\n",
    "class emp:\n",
    "    raise_amount = 1.04\n",
    "    num_emp = 0\n",
    "    def __init__(self,f,l):\n",
    "        self.f = f\n",
    "        self.l = l\n",
    "        self.email = f + '.' + l + '@comp.com'\n",
    "        emp.num_emp += 1\n",
    "    def fullname(self):\n",
    "        return '{} {}'.format(emp1.f,emp1.l)\n",
    "    def email2(self):\n",
    "        return '{}.{}@email.com'.format(self.f,self.l)\n",
    "emp1 = emp(\"john\",\"cena\")\n",
    "emp1.f = \"Jin\"\n",
    "print(emp1.f)\n",
    "print(emp1.fullname())\n",
    "print(emp1.email2())"
   ]
  },
  {
   "cell_type": "code",
   "execution_count": 122,
   "id": "a76e984f",
   "metadata": {},
   "outputs": [
    {
     "name": "stdout",
     "output_type": "stream",
     "text": [
      "Whiskers\n",
      "3\n",
      "Meow\n",
      "This is a private method\n"
     ]
    }
   ],
   "source": [
    "class Animal:\n",
    "    def __init__(self, name, age):\n",
    "        self.name = name\n",
    "        self._age = age\n",
    "        self.__weight = 10\n",
    "    \n",
    "    def speak(self):\n",
    "        print(\"Some sound\")\n",
    "    \n",
    "    def _private_method(self):\n",
    "        print(\"This is a private method\")\n",
    "    \n",
    "    def __private_method(self):\n",
    "        print(\"This is a really private method\")\n",
    "\n",
    "class Cat(Animal):\n",
    "    def __init__(self, name, age):\n",
    "        super().__init__(name, age)\n",
    "    \n",
    "    def speak(self):\n",
    "        print(\"Meow\")\n",
    "        self._private_method()\n",
    "        # self.__private_method() would raise an AttributeError\n",
    "    \n",
    "cat = Cat(\"Whiskers\", 3)\n",
    "print(cat.name)\n",
    "print(cat._age)\n",
    "#print(cat.__weight) #would raise an AttributeError\n",
    "cat.speak()"
   ]
  },
  {
   "cell_type": "code",
   "execution_count": 124,
   "id": "971dc2e2",
   "metadata": {},
   "outputs": [
    {
     "name": "stdout",
     "output_type": "stream",
     "text": [
      "I can walk and run\n",
      "I can crawl\n",
      "I can bark\n",
      "I can roar\n"
     ]
    }
   ],
   "source": [
    "# Python program showing\n",
    "# abstract base class work\n",
    " \n",
    "from abc import ABC, abstractmethod\n",
    "class Animal(ABC):\n",
    " \n",
    "    def move(self):\n",
    "        pass\n",
    " \n",
    "class Human(Animal):\n",
    " \n",
    "    def move(self):\n",
    "        print(\"I can walk and run\")\n",
    " \n",
    "class Snake(Animal):\n",
    " \n",
    "    def move(self):\n",
    "        print(\"I can crawl\")\n",
    " \n",
    "class Dog(Animal):\n",
    " \n",
    "    def move(self):\n",
    "        print(\"I can bark\")\n",
    " \n",
    "class Lion(Animal):\n",
    " \n",
    "    def move(self):\n",
    "        print(\"I can roar\")\n",
    "         \n",
    "# Driver code\n",
    "R = Human()\n",
    "R.move()\n",
    " \n",
    "K = Snake()\n",
    "K.move()\n",
    " \n",
    "R = Dog()\n",
    "R.move()\n",
    " \n",
    "K = Lion()\n",
    "K.move()"
   ]
  },
  {
   "cell_type": "code",
   "execution_count": 126,
   "id": "c1dcef5d",
   "metadata": {},
   "outputs": [
    {
     "name": "stdout",
     "output_type": "stream",
     "text": [
      "I can walk and run\n",
      "I can crawl\n",
      "I can bark\n",
      "I can roar\n"
     ]
    }
   ],
   "source": [
    "# Python program showing abstract base class work\n",
    " \n",
    "from abc import ABC, abstractmethod\n",
    "class Animal(ABC):\n",
    " \n",
    "    def move(self):\n",
    "        pass\n",
    " \n",
    "class Human(Animal):\n",
    " \n",
    "    def move(self):\n",
    "        print(\"I can walk and run\")\n",
    " \n",
    "class Snake(Animal):\n",
    " \n",
    "    def move(self):\n",
    "        print(\"I can crawl\")\n",
    " \n",
    "class Dog(Animal):\n",
    " \n",
    "    def move(self):\n",
    "        print(\"I can bark\")\n",
    " \n",
    "class Lion(Animal):\n",
    " \n",
    "    def move(self):\n",
    "        print(\"I can roar\")\n",
    "         \n",
    "# Driver code\n",
    "R = Human()\n",
    "R.move()\n",
    " \n",
    "K = Snake()\n",
    "K.move()\n",
    " \n",
    "R = Dog()\n",
    "R.move()\n",
    " \n",
    "K = Lion()\n",
    "K.move()"
   ]
  },
  {
   "cell_type": "code",
   "execution_count": 127,
   "id": "ac69e51e",
   "metadata": {},
   "outputs": [
    {
     "name": "stdout",
     "output_type": "stream",
     "text": [
      "True\n",
      "True\n"
     ]
    }
   ],
   "source": [
    "# Python program showing\n",
    "# implementation of abstract\n",
    "# class through subclassing\n",
    "\n",
    "import abc\n",
    "\n",
    "class parent:\t\n",
    "\tdef geeks(self):\n",
    "\t\tpass\n",
    "\n",
    "class child(parent):\n",
    "\tdef geeks(self):\n",
    "\t\tprint(\"child class\")\n",
    "\n",
    "# Driver code\n",
    "print( issubclass(child, parent))\n",
    "print( isinstance(child(), parent))\n"
   ]
  },
  {
   "cell_type": "code",
   "execution_count": 136,
   "id": "01bf7a7e",
   "metadata": {},
   "outputs": [],
   "source": [
    "from abc import ABC, abstractmethod\n",
    "\n",
    "class Shape(ABC):\n",
    "    @abstractmethod\n",
    "    def area(self):\n",
    "        pass\n",
    "    \n",
    "    @abstractmethod\n",
    "    def perimeter(self):\n",
    "        pass\n",
    "    \n",
    "class Rectangle(Shape):\n",
    "    def __init__(self, length, width):\n",
    "        self.length = length\n",
    "        self.width = width\n",
    "    \n",
    "    def area(self):\n",
    "        return self.length * self.width\n",
    "    \n",
    "    def perimeter(self):\n",
    "        return 2 * (self.length + self.width)"
   ]
  },
  {
   "cell_type": "code",
   "execution_count": 137,
   "id": "9c4d1b60",
   "metadata": {},
   "outputs": [
    {
     "name": "stdout",
     "output_type": "stream",
     "text": [
      "Abstract Base Class\n",
      "subclass \n"
     ]
    }
   ],
   "source": [
    "\n",
    "# Python program invoking a\n",
    "# method using super()\n",
    " \n",
    "import abc\n",
    "from abc import ABC, abstractmethod\n",
    " \n",
    "class R(ABC):\n",
    "    def rk(self):\n",
    "        print(\"Abstract Base Class\")\n",
    " \n",
    "class K(R):\n",
    "    def rk(self):\n",
    "        super().rk()\n",
    "        print(\"subclass \")\n",
    " \n",
    "# Driver code\n",
    "r = K()\n",
    "r.rk()"
   ]
  },
  {
   "cell_type": "code",
   "execution_count": 140,
   "id": "568350dc",
   "metadata": {},
   "outputs": [
    {
     "data": {
      "text/plain": [
       "{'a': 4}"
      ]
     },
     "execution_count": 140,
     "metadata": {},
     "output_type": "execute_result"
    }
   ],
   "source": [
    "x = {'a':1}\n",
    "y = x\n",
    "y['a'] = 4\n",
    "x"
   ]
  },
  {
   "cell_type": "code",
   "execution_count": null,
   "id": "0bcb7bc4",
   "metadata": {},
   "outputs": [],
   "source": []
  }
 ],
 "metadata": {
  "kernelspec": {
   "display_name": "Python 3 (ipykernel)",
   "language": "python",
   "name": "python3"
  },
  "language_info": {
   "codemirror_mode": {
    "name": "ipython",
    "version": 3
   },
   "file_extension": ".py",
   "mimetype": "text/x-python",
   "name": "python",
   "nbconvert_exporter": "python",
   "pygments_lexer": "ipython3",
   "version": "3.9.13"
  }
 },
 "nbformat": 4,
 "nbformat_minor": 5
}
